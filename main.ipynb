{
 "cells": [
  {
   "cell_type": "code",
   "execution_count": 2,
   "id": "6fa9dd39",
   "metadata": {},
   "outputs": [
    {
     "name": "stdout",
     "output_type": "stream",
     "text": [
      "Connected to database: AdventureWorks-sqlite.db\n"
     ]
    }
   ],
   "source": [
    "##Importing the necessary packages\n",
    "import pandas as pd #easy to use open source data analysis and manipulate data\n",
    "import numpy as np #used for working with arrays.\n",
    "import plotly.express as px # used for data visualization\n",
    "import plotly.graph_objects as go\n",
    "\n",
    "from connection import connect_to_db #importing the function to connect to the database\n",
    "import warnings\n",
    "warnings.filterwarnings('ignore')\n",
    "\n",
    "\n",
    "pd.set_option('display.max_colwidth',None)\n",
    "pd.set_option('display.max_columns',None)"
   ]
  },
  {
   "cell_type": "markdown",
   "id": "fe3acd43",
   "metadata": {},
   "source": [
    "### Sales & Revenue Analysis"
   ]
  },
  {
   "cell_type": "markdown",
   "id": "0574c206",
   "metadata": {},
   "source": [
    "1. What is the total revenue generated?"
   ]
  },
  {
   "cell_type": "code",
   "execution_count": 3,
   "id": "5f020eb8",
   "metadata": {},
   "outputs": [
    {
     "name": "stdout",
     "output_type": "stream",
     "text": [
      "Connected to database: AdventureWorks-sqlite.db\n"
     ]
    },
    {
     "data": {
      "text/html": [
       "<div>\n",
       "<style scoped>\n",
       "    .dataframe tbody tr th:only-of-type {\n",
       "        vertical-align: middle;\n",
       "    }\n",
       "\n",
       "    .dataframe tbody tr th {\n",
       "        vertical-align: top;\n",
       "    }\n",
       "\n",
       "    .dataframe thead th {\n",
       "        text-align: right;\n",
       "    }\n",
       "</style>\n",
       "<table border=\"1\" class=\"dataframe\">\n",
       "  <thead>\n",
       "    <tr style=\"text-align: right;\">\n",
       "      <th></th>\n",
       "      <th>Total Sales</th>\n",
       "    </tr>\n",
       "  </thead>\n",
       "  <tbody>\n",
       "    <tr>\n",
       "      <th>0</th>\n",
       "      <td>708690.153058</td>\n",
       "    </tr>\n",
       "  </tbody>\n",
       "</table>\n",
       "</div>"
      ],
      "text/plain": [
       "     Total Sales\n",
       "0  708690.153058"
      ]
     },
     "execution_count": 3,
     "metadata": {},
     "output_type": "execute_result"
    }
   ],
   "source": [
    "sales = \"\"\"\n",
    "    SELECT \n",
    "        SUM(LineTotal) AS 'Total Sales'\n",
    "    FROM SalesOrderDetail\n",
    "\"\"\"\n",
    "sales = pd.read_sql(sales, connect_to_db())\n",
    "sales"
   ]
  },
  {
   "cell_type": "markdown",
   "id": "8e8ab668",
   "metadata": {},
   "source": [
    "2. What is the total number of orders made?"
   ]
  },
  {
   "cell_type": "code",
   "execution_count": 4,
   "id": "cc991c78",
   "metadata": {},
   "outputs": [
    {
     "name": "stdout",
     "output_type": "stream",
     "text": [
      "Connected to database: AdventureWorks-sqlite.db\n"
     ]
    },
    {
     "data": {
      "text/html": [
       "<div>\n",
       "<style scoped>\n",
       "    .dataframe tbody tr th:only-of-type {\n",
       "        vertical-align: middle;\n",
       "    }\n",
       "\n",
       "    .dataframe tbody tr th {\n",
       "        vertical-align: top;\n",
       "    }\n",
       "\n",
       "    .dataframe thead th {\n",
       "        text-align: right;\n",
       "    }\n",
       "</style>\n",
       "<table border=\"1\" class=\"dataframe\">\n",
       "  <thead>\n",
       "    <tr style=\"text-align: right;\">\n",
       "      <th></th>\n",
       "      <th>Total Orders</th>\n",
       "    </tr>\n",
       "  </thead>\n",
       "  <tbody>\n",
       "    <tr>\n",
       "      <th>0</th>\n",
       "      <td>2087</td>\n",
       "    </tr>\n",
       "  </tbody>\n",
       "</table>\n",
       "</div>"
      ],
      "text/plain": [
       "   Total Orders\n",
       "0          2087"
      ]
     },
     "execution_count": 4,
     "metadata": {},
     "output_type": "execute_result"
    }
   ],
   "source": [
    "orders = \"\"\"\n",
    "    SELECT\n",
    "        SUM(OrderQty) AS 'Total Orders'\n",
    "    FROM SalesOrderDetail\n",
    "\"\"\"\n",
    "\n",
    "orders = pd.read_sql(orders, connect_to_db())\n",
    "orders"
   ]
  },
  {
   "cell_type": "code",
   "execution_count": null,
   "id": "955320a1",
   "metadata": {},
   "outputs": [],
   "source": []
  }
 ],
 "metadata": {
  "kernelspec": {
   "display_name": ".venv",
   "language": "python",
   "name": "python3"
  },
  "language_info": {
   "codemirror_mode": {
    "name": "ipython",
    "version": 3
   },
   "file_extension": ".py",
   "mimetype": "text/x-python",
   "name": "python",
   "nbconvert_exporter": "python",
   "pygments_lexer": "ipython3",
   "version": "3.11.8"
  }
 },
 "nbformat": 4,
 "nbformat_minor": 5
}
